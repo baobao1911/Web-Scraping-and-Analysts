{
 "cells": [
  {
   "attachments": {},
   "cell_type": "markdown",
   "metadata": {},
   "source": [
    "### Crawling data from web"
   ]
  },
  {
   "attachments": {},
   "cell_type": "markdown",
   "metadata": {},
   "source": [
    "##### Import library"
   ]
  },
  {
   "cell_type": "code",
   "execution_count": 1,
   "metadata": {},
   "outputs": [],
   "source": [
    "from selenium import webdriver\n",
    "from selenium.webdriver.common.by import By\n",
    "import pandas as pd \n",
    "import time"
   ]
  },
  {
   "attachments": {},
   "cell_type": "markdown",
   "metadata": {},
   "source": [
    "#### Connect to web for crawl"
   ]
  },
  {
   "cell_type": "code",
   "execution_count": 2,
   "metadata": {},
   "outputs": [],
   "source": [
    "driver = webdriver.Edge()\n",
    "driver.get('https://1xbet.whoscored.com/Statistics')\n"
   ]
  },
  {
   "attachments": {},
   "cell_type": "markdown",
   "metadata": {},
   "source": [
    "#### Make columns in feature"
   ]
  },
  {
   "cell_type": "code",
   "execution_count": 3,
   "metadata": {},
   "outputs": [],
   "source": [
    "_Player = []\n",
    "_Team= []\n",
    "_Position= []\n",
    "_Apps = []\n",
    "_Mins = []\n",
    "_Goals = []\n",
    "_Assists = []\n",
    "_YelCard = []\n",
    "_RedCard =[]\n",
    "_SpG = []\n",
    "_PS_percent =[]\n",
    "_AerialsWon = []\n",
    "_MotM = []\n",
    "_Ratting = []"
   ]
  },
  {
   "attachments": {},
   "cell_type": "markdown",
   "metadata": {},
   "source": [
    "#### Denify name for each feature"
   ]
  },
  {
   "cell_type": "code",
   "execution_count": 4,
   "metadata": {},
   "outputs": [],
   "source": [
    "Col_name = [\"Player\",\"Team\",\"Position\",\"Apps\",\"Mins\",\"Goals\",\"Assists\",\"YelCard\",\"RedCard\",\"SpG\",\"PS\",\"AerialsWon\",\"MotM\",\"Ratting\"]"
   ]
  },
  {
   "attachments": {},
   "cell_type": "markdown",
   "metadata": {},
   "source": [
    "### Step to step in oder to get data \n",
    "1. Using XPATH method of selenium to access into the position in web\n",
    "2. Save the data in temporary array\n",
    "3. after that convert to string by using .text in selenium \n",
    "4. concatenation each feature with main column feature  \n",
    "5. Click on button \"Next\" in website by using method .click()\n",
    "6. wait 3s for website loading \n"
   ]
  },
  {
   "cell_type": "code",
   "execution_count": 5,
   "metadata": {},
   "outputs": [],
   "source": [
    "max_page = driver.find_elements(By.XPATH,\"//*[@id='statistics-paging-summary']/div/dl[2]/dt/b\")\n",
    "max_page = [e.text for e in max_page][0]\n",
    "max_page = max_page.split(\"/\")[1].split()[0]\n",
    "max_page = int(max_page)"
   ]
  },
  {
   "cell_type": "code",
   "execution_count": 6,
   "metadata": {},
   "outputs": [],
   "source": [
    "page = 1\n",
    "while page < max_page :\n",
    "    #Access to positon in website\n",
    "    player = driver.find_elements(By.XPATH,\"//table[@id='top-player-stats-summary-grid']/tbody/tr/td/a/span[@class ='iconize iconize-icon-left']\")\n",
    "    team = driver.find_elements(By.XPATH,\"//table/tbody/tr/td/a[2]/span\")\n",
    "    position = driver.find_elements(By.XPATH,\"//table/tbody/tr/td/span/span[2]\")\n",
    "    apps =  driver.find_elements(By.XPATH,\"//table[@id='top-player-stats-summary-grid']/tbody/tr/td[3]\")\n",
    "    mins=  driver.find_elements(By.XPATH,\"//table[@id='top-player-stats-summary-grid']/tbody/tr/td[4]\")\n",
    "    goals =  driver.find_elements(By.XPATH,\"//table[@id='top-player-stats-summary-grid']/tbody/tr/td[5]\")\n",
    "    assists =  driver.find_elements(By.XPATH,\"//table[@id='top-player-stats-summary-grid']/tbody/tr/td[6]\")\n",
    "    yel = driver.find_elements(By.XPATH,\"//table[@id='top-player-stats-summary-grid']/tbody/tr/td[7]\")\n",
    "    red =  driver.find_elements(By.XPATH,\"//table[@id='top-player-stats-summary-grid']/tbody/tr/td[8]\")\n",
    "    spg = driver.find_elements(By.XPATH,\"//table[@id='top-player-stats-summary-grid']/tbody/tr/td[9]\")\n",
    "    ps = driver.find_elements(By.XPATH,\"//table[@id='top-player-stats-summary-grid']/tbody/tr/td[10]\")\n",
    "    aerialswon= driver.find_elements(By.XPATH,\"//table[@id='top-player-stats-summary-grid']/tbody/tr/td[11]\")\n",
    "    motm= driver.find_elements(By.XPATH,\"//table[@id='top-player-stats-summary-grid']/tbody/tr/td[12]\")\n",
    "    ratting = driver.find_elements(By.XPATH,\"//table[@id='top-player-stats-summary-grid']/tbody/tr/td[13]\")\n",
    "\n",
    "\n",
    "    # Convert to String an save in temporary array\n",
    "    player_ele = [e.text for e in player] \n",
    "    team_ele = [team[i].text for i in range(len(team)) if i % 2 ==0]\n",
    "    position_ele = [e.text for e in position]\n",
    "    apps_ele = [e.text for e in apps]\n",
    "    mins_ele = [e.text for e in mins]\n",
    "    goals_ele = [e.text for e in goals]\n",
    "    assists_ele = [e.text for e in assists]\n",
    "    yel_ele = [e.text for e in yel]\n",
    "    red_ele = [e.text for e in red]\n",
    "    spg_ele = [e.text for e in spg]\n",
    "    ps_ele = [e.text for e in ps] \n",
    "    aerialswon_ele = [e.text for e in aerialswon]\n",
    "    motm_ele = [e.text for e in motm]\n",
    "    ratting_ele = [e.text for e in ratting]\n",
    "\n",
    "    # Concatenation with main column feature\n",
    "    _Player = [*_Player , *player_ele]\n",
    "    _Team= [*_Team , *team_ele]\n",
    "    _Position = [*_Position , *position_ele]\n",
    "    _Apps = [*_Apps,*apps_ele]\n",
    "    _Mins = [*_Mins,*mins_ele]\n",
    "    _Goals = [*_Goals,*goals_ele]\n",
    "    _Assists = [*_Assists, *assists_ele]\n",
    "    _YelCard = [*_YelCard,*yel_ele]\n",
    "    _RedCard =[*_RedCard,*red_ele]\n",
    "    _SpG = [*_SpG,*spg_ele]\n",
    "    _PS_percent =[*_PS_percent,*ps_ele]\n",
    "    _AerialsWon = [*_AerialsWon,*aerialswon_ele]\n",
    "    _MotM = [*_MotM, *motm_ele]\n",
    "    _Ratting = [*_Ratting,*ratting_ele]\n",
    "\n",
    "\n",
    "    # Access to button 'next' in website and click into the button\n",
    "    driver.find_element(By.XPATH,\"//div[@id='top-player-stats']/div/div[4]/div/dl/dd[3]/a[@id='next']\").click()\n",
    "\n",
    "    # Wait for 3s to website loading \n",
    "    time.sleep(3)\n",
    "    # Upload page is crawling\n",
    "    page +=1 \n",
    "    "
   ]
  },
  {
   "attachments": {},
   "cell_type": "markdown",
   "metadata": {},
   "source": [
    "#### Convert data to DataFrame using pandas library"
   ]
  },
  {
   "cell_type": "code",
   "execution_count": 7,
   "metadata": {},
   "outputs": [],
   "source": [
    "data=pd.DataFrame(list(zip(_Player,_Team,_Position,_Apps,_Mins,_Goals,_Assists,_YelCard,_RedCard,_SpG,_PS_percent,_AerialsWon,_MotM,_Ratting)),columns=Col_name)"
   ]
  },
  {
   "attachments": {},
   "cell_type": "markdown",
   "metadata": {},
   "source": [
    "#### print the data for checking"
   ]
  },
  {
   "cell_type": "code",
   "execution_count": 8,
   "metadata": {},
   "outputs": [
    {
     "data": {
      "text/html": [
       "<div>\n",
       "<style scoped>\n",
       "    .dataframe tbody tr th:only-of-type {\n",
       "        vertical-align: middle;\n",
       "    }\n",
       "\n",
       "    .dataframe tbody tr th {\n",
       "        vertical-align: top;\n",
       "    }\n",
       "\n",
       "    .dataframe thead th {\n",
       "        text-align: right;\n",
       "    }\n",
       "</style>\n",
       "<table border=\"1\" class=\"dataframe\">\n",
       "  <thead>\n",
       "    <tr style=\"text-align: right;\">\n",
       "      <th></th>\n",
       "      <th>Player</th>\n",
       "      <th>Team</th>\n",
       "      <th>Position</th>\n",
       "      <th>Apps</th>\n",
       "      <th>Mins</th>\n",
       "      <th>Goals</th>\n",
       "      <th>Assists</th>\n",
       "      <th>YelCard</th>\n",
       "      <th>RedCard</th>\n",
       "      <th>SpG</th>\n",
       "      <th>PS</th>\n",
       "      <th>AerialsWon</th>\n",
       "      <th>MotM</th>\n",
       "      <th>Ratting</th>\n",
       "    </tr>\n",
       "  </thead>\n",
       "  <tbody>\n",
       "    <tr>\n",
       "      <th>0</th>\n",
       "      <td>Lionel Messi</td>\n",
       "      <td>PSG,</td>\n",
       "      <td>, AM(CR),FW</td>\n",
       "      <td>23</td>\n",
       "      <td>2032</td>\n",
       "      <td>13</td>\n",
       "      <td>13</td>\n",
       "      <td>-</td>\n",
       "      <td>-</td>\n",
       "      <td>4.3</td>\n",
       "      <td>82.6</td>\n",
       "      <td>-</td>\n",
       "      <td>12</td>\n",
       "      <td>8.46</td>\n",
       "    </tr>\n",
       "    <tr>\n",
       "      <th>1</th>\n",
       "      <td>Kylian Mbappé</td>\n",
       "      <td>PSG,</td>\n",
       "      <td>, AM(LR),FW</td>\n",
       "      <td>22(2)</td>\n",
       "      <td>1922</td>\n",
       "      <td>19</td>\n",
       "      <td>3</td>\n",
       "      <td>5</td>\n",
       "      <td>-</td>\n",
       "      <td>4.3</td>\n",
       "      <td>82.8</td>\n",
       "      <td>0.3</td>\n",
       "      <td>3</td>\n",
       "      <td>7.72</td>\n",
       "    </tr>\n",
       "    <tr>\n",
       "      <th>2</th>\n",
       "      <td>Martin Terrier</td>\n",
       "      <td>Rennes,</td>\n",
       "      <td>, AM(CL),FW</td>\n",
       "      <td>16</td>\n",
       "      <td>1330</td>\n",
       "      <td>9</td>\n",
       "      <td>4</td>\n",
       "      <td>-</td>\n",
       "      <td>-</td>\n",
       "      <td>2.9</td>\n",
       "      <td>75.3</td>\n",
       "      <td>3.9</td>\n",
       "      <td>7</td>\n",
       "      <td>7.71</td>\n",
       "    </tr>\n",
       "    <tr>\n",
       "      <th>3</th>\n",
       "      <td>Neymar</td>\n",
       "      <td>PSG,</td>\n",
       "      <td>, AM(CLR),FW</td>\n",
       "      <td>18(2)</td>\n",
       "      <td>1553</td>\n",
       "      <td>13</td>\n",
       "      <td>11</td>\n",
       "      <td>4</td>\n",
       "      <td>1</td>\n",
       "      <td>1.9</td>\n",
       "      <td>82.7</td>\n",
       "      <td>0.1</td>\n",
       "      <td>3</td>\n",
       "      <td>7.71</td>\n",
       "    </tr>\n",
       "    <tr>\n",
       "      <th>4</th>\n",
       "      <td>Khvicha Kvaratskhelia</td>\n",
       "      <td>Napoli,</td>\n",
       "      <td>, AM(CLR)</td>\n",
       "      <td>22(1)</td>\n",
       "      <td>1743</td>\n",
       "      <td>12</td>\n",
       "      <td>10</td>\n",
       "      <td>-</td>\n",
       "      <td>-</td>\n",
       "      <td>2.9</td>\n",
       "      <td>81.9</td>\n",
       "      <td>0.3</td>\n",
       "      <td>7</td>\n",
       "      <td>7.64</td>\n",
       "    </tr>\n",
       "  </tbody>\n",
       "</table>\n",
       "</div>"
      ],
      "text/plain": [
       "                  Player     Team      Position   Apps  Mins Goals Assists  \\\n",
       "0           Lionel Messi     PSG,   , AM(CR),FW     23  2032    13      13   \n",
       "1          Kylian Mbappé     PSG,   , AM(LR),FW  22(2)  1922    19       3   \n",
       "2         Martin Terrier  Rennes,   , AM(CL),FW     16  1330     9       4   \n",
       "3                 Neymar     PSG,  , AM(CLR),FW  18(2)  1553    13      11   \n",
       "4  Khvicha Kvaratskhelia  Napoli,     , AM(CLR)  22(1)  1743    12      10   \n",
       "\n",
       "  YelCard RedCard  SpG    PS AerialsWon MotM Ratting  \n",
       "0       -       -  4.3  82.6          -   12    8.46  \n",
       "1       5       -  4.3  82.8        0.3    3    7.72  \n",
       "2       -       -  2.9  75.3        3.9    7    7.71  \n",
       "3       4       1  1.9  82.7        0.1    3    7.71  \n",
       "4       -       -  2.9  81.9        0.3    7    7.64  "
      ]
     },
     "execution_count": 8,
     "metadata": {},
     "output_type": "execute_result"
    }
   ],
   "source": [
    "data.head()"
   ]
  },
  {
   "attachments": {},
   "cell_type": "markdown",
   "metadata": {},
   "source": [
    "#### Saved in csv file"
   ]
  },
  {
   "cell_type": "code",
   "execution_count": 9,
   "metadata": {},
   "outputs": [],
   "source": [
    "data.to_csv(\"DataFiFa.csv\",index= False)"
   ]
  }
 ],
 "metadata": {
  "kernelspec": {
   "display_name": "Python 3",
   "language": "python",
   "name": "python3"
  },
  "language_info": {
   "codemirror_mode": {
    "name": "ipython",
    "version": 3
   },
   "file_extension": ".py",
   "mimetype": "text/x-python",
   "name": "python",
   "nbconvert_exporter": "python",
   "pygments_lexer": "ipython3",
   "version": "3.9.12"
  },
  "orig_nbformat": 4,
  "vscode": {
   "interpreter": {
    "hash": "81794d4967e6c3204c66dcd87b604927b115b27c00565d3d43f05ba2f3a2cb0d"
   }
  }
 },
 "nbformat": 4,
 "nbformat_minor": 2
}
